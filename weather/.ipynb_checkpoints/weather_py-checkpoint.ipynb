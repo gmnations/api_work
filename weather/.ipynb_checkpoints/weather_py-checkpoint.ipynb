{
 "cells": [
  {
   "cell_type": "code",
   "execution_count": 72,
   "metadata": {
    "scrolled": true
   },
   "outputs": [],
   "source": [
    "# Dependencies\n",
    "import requests\n",
    "import json\n",
    "from citipy import citipy\n",
    "import numpy as np\n",
    "from api_keys import api_key\n",
    "import matplotlib.pyplot as plt\n",
    "import pandas as pd\n",
    "from pprint import pprint\n",
    "import datetime as dt\n",
    "\n",
    "csv_save = \"output_data/cities.csv\"\n",
    "lat_range = (-90, 90)\n",
    "lng_range = (-180, 180)"
   ]
  },
  {
   "cell_type": "code",
   "execution_count": 73,
   "metadata": {},
   "outputs": [],
   "source": [
    "url = \"http://api.openweathermap.org/data/2.5/weather?\"\n",
    "units = \"imperial\"\n",
    "\n",
    "# Build partial query URL\n",
    "query_url = f\"{url}appid={api_key}&units={units}&q=\""
   ]
  },
  {
   "cell_type": "code",
   "execution_count": 74,
   "metadata": {},
   "outputs": [
    {
     "name": "stdout",
     "output_type": "stream",
     "text": [
      "http://api.openweathermap.org/data/2.5/weather\n"
     ]
    }
   ],
   "source": [
    "response = requests.get(url)\n",
    "\n",
    "print(response.url)\n"
   ]
  },
  {
   "cell_type": "code",
   "execution_count": 75,
   "metadata": {},
   "outputs": [
    {
     "data": {
      "text/plain": [
       "589"
      ]
     },
     "execution_count": 75,
     "metadata": {},
     "output_type": "execute_result"
    }
   ],
   "source": [
    "cities = []\n",
    "lat_lngs = []\n",
    "\n",
    "lats = np.random.uniform(lat_range[0], lat_range[1], size=1500)\n",
    "lngs = np.random.uniform(lng_range[0], lng_range[1], size=1500)\n",
    "lat_lngs = zip(lats, lngs)\n",
    "\n",
    "for lat_lng in lat_lngs:\n",
    "    city = citipy.nearest_city(lat_lng[0], lat_lng[1]).city_name\n",
    "    \n",
    "    if city not in cities:\n",
    "        cities.append(city)\n",
    "        \n",
    "len(cities)\n"
   ]
  },
  {
   "cell_type": "code",
   "execution_count": null,
   "metadata": {},
   "outputs": [
    {
     "name": "stdout",
     "output_type": "stream",
     "text": [
      "Beginning Data Retrieval\n",
      "------------------------------------------------------------\n",
      "Processing Record 1 | albany\n",
      "Processing Record 2 | kapaa\n",
      "Processing Record 3 | roald\n",
      "Processing Record 4 | iqaluit\n",
      "Processing Record 5 | zhigansk\n",
      "Processing Record 6 | huangnihe\n",
      "Processing Record 7 | jalu\n",
      "Processing Record 8 | vicuna\n",
      "Processing Record 9 | haines junction\n",
      "Processing Record 10 | hithadhoo\n",
      "Processing Record 11 | vaini\n",
      "Processing Record 12 | hermanus\n",
      "Processing Record 13 | provideniya\n",
      "City not found. Skipping...\n",
      "Processing Record 14 | torbay\n",
      "Processing Record 15 | busselton\n",
      "Processing Record 16 | sechura\n",
      "Processing Record 17 | mangrol\n",
      "Processing Record 18 | taltal\n",
      "Processing Record 19 | bud\n",
      "Processing Record 20 | victoria\n",
      "Processing Record 21 | petropavlovsk-kamchatskiy\n",
      "Processing Record 22 | helong\n",
      "Processing Record 23 | cidreira\n",
      "Processing Record 24 | huarmey\n",
      "Processing Record 25 | jurado\n",
      "Processing Record 26 | faanui\n",
      "Processing Record 27 | sahaspur\n",
      "Processing Record 28 | hilo\n",
      "Processing Record 29 | rikitea\n",
      "City not found. Skipping...\n",
      "Processing Record 30 | mount gambier\n",
      "Processing Record 31 | kavaratti\n",
      "Processing Record 32 | garissa\n",
      "City not found. Skipping...\n",
      "Processing Record 33 | ambilobe\n",
      "Processing Record 34 | velka bites\n",
      "Processing Record 35 | eenhana\n",
      "Processing Record 36 | sibolga\n",
      "Processing Record 37 | makaha\n",
      "City not found. Skipping...\n",
      "Processing Record 38 | kamenka\n",
      "Processing Record 39 | saint pete beach\n",
      "Processing Record 40 | batagay\n",
      "Processing Record 41 | senigallia\n",
      "Processing Record 42 | airai\n",
      "Processing Record 43 | mataura\n",
      "Processing Record 44 | kaitangata\n",
      "Processing Record 45 | mushie\n",
      "Processing Record 46 | atuona\n",
      "Processing Record 47 | searcy\n",
      "Processing Record 48 | dikson\n",
      "Processing Record 49 | inirida\n",
      "Processing Record 50 | gumdag\n",
      "Processing Record 51 | port alfred\n",
      "Processing Record 52 | saint george\n",
      "Processing Record 53 | nikolskoye\n",
      "City not found. Skipping...\n",
      "Processing Record 54 | ushuaia\n",
      "Processing Record 55 | salalah\n",
      "Processing Record 56 | champerico\n",
      "Processing Record 57 | broken hill\n",
      "Processing Record 58 | punta arenas\n",
      "Processing Record 59 | jamestown\n",
      "Processing Record 60 | olafsvik\n",
      "Processing Record 61 | chuy\n",
      "Processing Record 62 | havelock\n",
      "Processing Record 63 | kupang\n",
      "Processing Record 64 | lasa\n",
      "Processing Record 65 | saldanha\n",
      "Processing Record 66 | portland\n",
      "Processing Record 67 | luderitz\n",
      "Processing Record 68 | avarua\n",
      "Processing Record 69 | flinders\n",
      "Processing Record 70 | cape town\n",
      "Processing Record 71 | tasiilaq\n",
      "Processing Record 72 | hobart\n",
      "Processing Record 73 | port elizabeth\n",
      "Processing Record 74 | erzin\n",
      "Processing Record 75 | etawah\n",
      "Processing Record 76 | trairi\n",
      "Processing Record 77 | saint-philippe\n",
      "Processing Record 78 | ponta do sol\n",
      "Processing Record 79 | bengkulu\n"
     ]
    }
   ],
   "source": [
    "city_name = []\n",
    "cloudiness = []\n",
    "country = []\n",
    "date = []\n",
    "humidity = []\n",
    "lat = []\n",
    "lng = []\n",
    "max_temp = []\n",
    "wind_speed = []\n",
    "\n",
    "count = 1\n",
    "\n",
    "print(f\"Beginning Data Retrieval\")   \n",
    "print(\"-\"*60)\n",
    "\n",
    "for city in cities:\n",
    "    try:\n",
    "        response = requests.get(query_url + city).json()\n",
    "        city_name.append(response[\"name\"])\n",
    "        cloudiness.append(response[\"clouds\"][\"all\"])\n",
    "        country.append(response[\"sys\"][\"country\"])\n",
    "        date.append(response[\"dt\"])\n",
    "        humidity.append(response[\"main\"][\"humidity\"])\n",
    "        max_temp.append(response[\"main\"][\"temp_max\"])\n",
    "        lat.append(response[\"coord\"][\"lat\"])\n",
    "        lng.append(response[\"coord\"][\"lon\"])\n",
    "        wind_speed.append(response[\"wind\"][\"speed\"])\n",
    "        \n",
    "        print(f\"Processing Record {count} | {city}\") \n",
    "        \n",
    "        count += 1\n",
    "   \n",
    "    except:\n",
    "        print(f\"City not found. Skipping...\")\n",
    "        continue\n",
    "print(\"-\"*60)\n",
    "print(f\"Data Retrieval Complete\")   \n",
    "print(\"-\"*60)\n"
   ]
  },
  {
   "cell_type": "code",
   "execution_count": null,
   "metadata": {},
   "outputs": [],
   "source": [
    "weather_dict = {\n",
    "    \"City\": city_name,\n",
    "    \"Cloudiness\":cloudiness, \n",
    "    \"Country\":country,\n",
    "    \"Date\":date, \n",
    "    \"Humidity\": humidity,\n",
    "    \"Lat\":lat, \n",
    "    \"Lng\":lng, \n",
    "    \"Max Temp\": max_temp,\n",
    "    \"Wind Speed\":wind_speed\n",
    "}\n",
    "\n",
    "# Create df \n",
    "weather_data = pd.DataFrame(weather_dict)\n",
    "\n",
    "# Display count\n",
    "weather_data.count()\n"
   ]
  },
  {
   "cell_type": "code",
   "execution_count": null,
   "metadata": {},
   "outputs": [],
   "source": [
    "weather_data.to_csv('output_data.csv')\n",
    "\n",
    "weather_data.head()"
   ]
  },
  {
   "cell_type": "code",
   "execution_count": null,
   "metadata": {},
   "outputs": [],
   "source": [
    "date = dt.date.today().strftime(\"%m/%d/%Y\")\n",
    "\n",
    "plt.scatter(weather_data[\"Lat\"], weather_data[\"Max Temp\"], marker=\"o\",s=20,alpha=.75, edgecolors=\"k\")\n",
    "plt.title(f\"City Latitude vs. Max Temperature {date}\")\n",
    "plt.ylabel(\"Max Temperature (F)\")\n",
    "plt.xlabel(\"Latitude\")\n",
    "plt.grid(True)\n",
    "\n",
    "plt.savefig(\"City Latitude vs Max Temperature.png\")\n",
    "plt.show()"
   ]
  },
  {
   "cell_type": "code",
   "execution_count": null,
   "metadata": {},
   "outputs": [],
   "source": [
    "plt.scatter(weather_data[\"Lat\"], weather_data[\"Humidity\"], marker=\"o\", s=20,alpha=.75, edgecolors=\"k\")\n",
    "plt.title(f\"City Latitude vs. Humidity {date}\")\n",
    "plt.ylabel(\"Humidity (%)\")\n",
    "plt.xlabel(\"Latitude\")\n",
    "plt.grid(True)\n",
    "\n",
    "plt.savefig(\"City Latitude vs Humidity.png\")\n",
    "plt.show()"
   ]
  },
  {
   "cell_type": "code",
   "execution_count": null,
   "metadata": {},
   "outputs": [],
   "source": [
    "plt.scatter(weather_data[\"Lat\"], weather_data[\"Cloudiness\"], marker=\"o\", s=20,alpha=.75, edgecolors=\"k\")\n",
    "plt.title(f\"City Latitude vs. Cloudiness {date}\")\n",
    "plt.ylabel(\"Cloudiness (%)\")\n",
    "plt.xlabel(\"Latitude\")\n",
    "plt.grid(True)\n",
    "\n",
    "plt.savefig(\"City Latitude vs Cloudiness.png\")\n",
    "plt.show()"
   ]
  },
  {
   "cell_type": "code",
   "execution_count": null,
   "metadata": {},
   "outputs": [],
   "source": [
    "plt.scatter(weather_data[\"Lat\"], weather_data[\"Wind Speed\"], marker=\"o\", s=20,alpha=.75, edgecolors=\"k\")\n",
    "plt.title(f\"City Latitude vs. Wind Speed {date}\")\n",
    "plt.ylabel(\"Wind Speed (mph)\")\n",
    "plt.xlabel(\"Latitude\")\n",
    "plt.grid(True)\n",
    "\n",
    "plt.savefig(\"City Latitude vs Wind Speed.png\")\n",
    "plt.show()"
   ]
  },
  {
   "cell_type": "markdown",
   "metadata": {},
   "source": [
    "## Inspect the data and remove the cities where the humidity > 100%.\n",
    "----\n",
    "Skip this step if there are no cities that have humidity > 100%. "
   ]
  },
  {
   "cell_type": "code",
   "execution_count": null,
   "metadata": {},
   "outputs": [],
   "source": [
    "weather_data[\"Humidity\"].value_counts()\n",
    "print( f\"There are no cities with humidity above 100%\")"
   ]
  },
  {
   "cell_type": "code",
   "execution_count": null,
   "metadata": {},
   "outputs": [],
   "source": [
    "north_hemi_df = weather_data.loc[(weather_data['Lat']>0)]\n",
    "south_hemi_df = weather_data.loc[(weather_data['Lat']<0)]"
   ]
  },
  {
   "cell_type": "code",
   "execution_count": null,
   "metadata": {},
   "outputs": [],
   "source": [
    "south_hemi_df.count()"
   ]
  },
  {
   "cell_type": "code",
   "execution_count": null,
   "metadata": {},
   "outputs": [],
   "source": [
    "north_hemi_df.count()"
   ]
  },
  {
   "cell_type": "code",
   "execution_count": null,
   "metadata": {},
   "outputs": [],
   "source": [
    "from scipy.stats import linregress\n",
    "def line_regr(x, y,yaxis):\n",
    "    \n",
    "    (slope, intercept, rvalue, pvalue, stderr) = linregress(x, y)\n",
    "    y_pred = intercept + slope*x\n",
    "    line_eq = \"y = \" + str(round(slope,2)) + \"x + \" + str(round(intercept,2))\n",
    "\n",
    "    # Plot\n",
    "    plt.scatter(x,y)\n",
    "    plt.plot(x,y_pred,\"r-\")\n",
    "    plt.xlabel('Latitude')\n",
    "    plt.ylabel(yaxis)\n",
    "    print(f\"r-squared: {rvalue}\")\n",
    "    plt.show()"
   ]
  },
  {
   "cell_type": "markdown",
   "metadata": {},
   "source": [
    "####  Northern Hemisphere - Max Temp vs. Latitude Linear Regression"
   ]
  },
  {
   "cell_type": "code",
   "execution_count": null,
   "metadata": {},
   "outputs": [],
   "source": [
    "x = north_hemi_df['Lat']\n",
    "y = north_hemi_df['Max Temp']\n",
    "line_regr(x,y,'Max Temp')\n",
    "\n",
    "plt.savefig(\"reg_north_temp_vs_lat.png\")"
   ]
  },
  {
   "cell_type": "markdown",
   "metadata": {},
   "source": [
    "####  Southern Hemisphere - Max Temp vs. Latitude Linear Regression"
   ]
  },
  {
   "cell_type": "code",
   "execution_count": null,
   "metadata": {},
   "outputs": [],
   "source": [
    "x = south_hemi_df['Lat']\n",
    "y = south_hemi_df['Max Temp']\n",
    "line_regr(x,y,'Max Temp')\n",
    "\n",
    "plt.savefig(\"reg_south_temp_vs_lat.png\")"
   ]
  },
  {
   "cell_type": "markdown",
   "metadata": {},
   "source": [
    "####  Northern Hemisphere - Humidity (%) vs. Latitude Linear Regression"
   ]
  },
  {
   "cell_type": "code",
   "execution_count": null,
   "metadata": {},
   "outputs": [],
   "source": [
    "x = north_hemi_df['Lat']\n",
    "y = north_hemi_df['Humidity']\n",
    "line_regr(x,y,'Humidity')\n",
    "\n",
    "plt.savefig(\"reg_north_hum_vs_lat.png\")"
   ]
  },
  {
   "cell_type": "markdown",
   "metadata": {},
   "source": [
    "####  Southern Hemisphere - Humidity (%) vs. Latitude Linear Regression"
   ]
  },
  {
   "cell_type": "code",
   "execution_count": null,
   "metadata": {},
   "outputs": [],
   "source": [
    "x = south_hemi_df['Lat']\n",
    "y = south_hemi_df['Humidity']\n",
    "line_regr(x,y,'Humidity')\n",
    "\n",
    "plt.savefig(\"reg_south_hum_vs_lat.png\")"
   ]
  },
  {
   "cell_type": "markdown",
   "metadata": {},
   "source": [
    "####  Northern Hemisphere - Cloudiness (%) vs. Latitude Linear Regression"
   ]
  },
  {
   "cell_type": "code",
   "execution_count": null,
   "metadata": {},
   "outputs": [],
   "source": [
    "x = north_hemi_df['Lat']\n",
    "y = north_hemi_df['Cloudiness']\n",
    "line_regr(x,y,'Cloudiness')\n",
    "\n",
    "plt.savefig(\"reg_north_cloud_vs_lat.png\")"
   ]
  },
  {
   "cell_type": "markdown",
   "metadata": {},
   "source": [
    "####  Southern Hemisphere - Cloudiness (%) vs. Latitude Linear Regression"
   ]
  },
  {
   "cell_type": "code",
   "execution_count": null,
   "metadata": {},
   "outputs": [],
   "source": [
    "x = south_hemi_df['Lat']\n",
    "y = south_hemi_df['Cloudiness']\n",
    "line_regr(x,y,'Cloudiness')\n",
    "\n",
    "plt.savefig(\"reg_south_cloud_vs_lat.png\")"
   ]
  },
  {
   "cell_type": "markdown",
   "metadata": {},
   "source": [
    "####  Northern Hemisphere - Wind Speed (mph) vs. Latitude Linear Regression"
   ]
  },
  {
   "cell_type": "code",
   "execution_count": null,
   "metadata": {},
   "outputs": [],
   "source": [
    "x = north_hemi_df['Lat']\n",
    "y = north_hemi_df['Wind Speed']\n",
    "line_regr(x,y,'Wind Speed (mph)')\n",
    "\n",
    "plt.savefig(\"reg_north_wind_vs_lat.png\")"
   ]
  },
  {
   "cell_type": "markdown",
   "metadata": {},
   "source": [
    "####  Southern Hemisphere - Wind Speed (mph) vs. Latitude Linear Regression"
   ]
  },
  {
   "cell_type": "code",
   "execution_count": null,
   "metadata": {
    "scrolled": true
   },
   "outputs": [],
   "source": [
    "x = south_hemi_df['Lat']\n",
    "y = south_hemi_df['Wind Speed']\n",
    "line_regr(x,y,'Wind Speed (mph)')\n",
    "\n",
    "plt.savefig(\"reg_south_wind_vs_lat.png\")"
   ]
  },
  {
   "cell_type": "code",
   "execution_count": null,
   "metadata": {},
   "outputs": [],
   "source": []
  },
  {
   "cell_type": "code",
   "execution_count": null,
   "metadata": {},
   "outputs": [],
   "source": []
  },
  {
   "cell_type": "code",
   "execution_count": null,
   "metadata": {},
   "outputs": [],
   "source": []
  }
 ],
 "metadata": {
  "anaconda-cloud": {},
  "kernel_info": {
   "name": "python3"
  },
  "kernelspec": {
   "display_name": "Python 3",
   "language": "python",
   "name": "python3"
  },
  "language_info": {
   "codemirror_mode": {
    "name": "ipython",
    "version": 3
   },
   "file_extension": ".py",
   "mimetype": "text/x-python",
   "name": "python",
   "nbconvert_exporter": "python",
   "pygments_lexer": "ipython3",
   "version": "3.8.5"
  },
  "latex_envs": {
   "LaTeX_envs_menu_present": true,
   "autoclose": false,
   "autocomplete": true,
   "bibliofile": "biblio.bib",
   "cite_by": "apalike",
   "current_citInitial": 1,
   "eqLabelWithNumbers": true,
   "eqNumInitial": 1,
   "hotkeys": {
    "equation": "Ctrl-E",
    "itemize": "Ctrl-I"
   },
   "labels_anchors": false,
   "latex_user_defs": false,
   "report_style_numbering": false,
   "user_envs_cfg": false
  },
  "nteract": {
   "version": "0.12.3"
  }
 },
 "nbformat": 4,
 "nbformat_minor": 2
}
